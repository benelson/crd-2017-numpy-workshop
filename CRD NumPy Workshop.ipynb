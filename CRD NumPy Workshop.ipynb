{
 "cells": [
  {
   "cell_type": "markdown",
   "metadata": {},
   "source": [
    "# Introduction to NumPy\n",
    "\n",
    "### Northwestern Computational Research Day 2017\n",
    "\n",
    "Presented by\n",
    "- Matthew Rich, Research Computing Consultant. [m-rich@northwestern.edu](mailto:m-rich@northwestern.edu)\n",
    "- Pascal Paschos, Senior High Performance Computing Specialist. [pascal.paschos@northwestern.edu](mailto:pascal.paschos@northwestern.edu)\n",
    "\n",
    "### NumPy in a nutshell\n",
    "\n",
    "NumPy is the fundamental package for scientific computing with Python. It contains among other things:\n",
    "- a powerful N-dimensional array object\n",
    "- fast, parallelized math functions\n",
    "- tools for integrating C/C++ and Fortran code\n",
    "- useful linear algebra, Fourier transform, and random number capabilities\n",
    "\n",
    "NumPy is the basis for the scientific computing and data science stacks in Python, including SciPy and Pandas.\n",
    "\n",
    "![NumPy and SciPy](numpy-and-scipy.png)\n",
    "\n",
    "Website: [http://numpy.org](http://numpy.org/)\n",
    "Github repository: [https://github.com/numpy/numpy](https://github.com/numpy/numpy)\n",
    "\n",
    "NumPy 1.0 was released in October 2006. The latest release, 1.12.1, was released March 18, 2017.\n"
   ]
  },
  {
   "cell_type": "markdown",
   "metadata": {
    "collapsed": true
   },
   "source": [
    "## Why not just use regular Python?\n",
    "\n",
    "After all, Python can do math with integers and floating point numbers, has a built in math and array packages, and fast and flexible container types:\n",
    "\n",
    "- Lists: cheap insert and append methods, can hold any type of data\n",
    "- Dictionaries: Mapping type with very fast lookup operations\n",
    "\n",
    "However, NumPy has an *extremely* efficient n-dimensional array implementation, and it has parallelized versions of the main Python math operations which can operate very quickly and efficiently on those arrays. This makes it very well suited to the kinds of vector and matrix operations that the SciPy stack builds on.\n",
    "\n",
    "Most of the time you won't be using NumPy directly but it is still good to understand how its core pieces work."
   ]
  },
  {
   "cell_type": "markdown",
   "metadata": {},
   "source": [
    "## The basic type: `ndarray`\n",
    "\n",
    "The n-dimensional array (`ndarray`) is the fundamental data structure in NumPy. It is a table of elements, all of the same type, which can be indexed (that is, accessed) by a tuple of integers.\n"
   ]
  },
  {
   "cell_type": "code",
   "execution_count": 1,
   "metadata": {
    "collapsed": false
   },
   "outputs": [
    {
     "data": {
      "text/plain": [
       "dtype('int32')"
      ]
     },
     "execution_count": 1,
     "metadata": {},
     "output_type": "execute_result"
    }
   ],
   "source": [
    "import numpy as np\n",
    "\n",
    "# Each element must be of the same type.\n",
    "intarray = np.array([1, 2, 3, 4])\n",
    "intarray.dtype"
   ]
  },
  {
   "cell_type": "code",
   "execution_count": 2,
   "metadata": {
    "collapsed": false
   },
   "outputs": [
    {
     "data": {
      "text/plain": [
       "dtype('float64')"
      ]
     },
     "execution_count": 2,
     "metadata": {},
     "output_type": "execute_result"
    }
   ],
   "source": [
    "floatarray = np.array([1.0, 2.0, 3.0, 4.0])\n",
    "floatarray.dtype"
   ]
  },
  {
   "cell_type": "code",
   "execution_count": 3,
   "metadata": {
    "collapsed": false
   },
   "outputs": [
    {
     "data": {
      "text/plain": [
       "dtype('float64')"
      ]
     },
     "execution_count": 3,
     "metadata": {},
     "output_type": "execute_result"
    }
   ],
   "source": [
    "# Numpy will try to coerce elements to the same datatype:\n",
    "mixedarray = np.array([1, 2.0, 3, np.pi])\n",
    "mixedarray.dtype"
   ]
  },
  {
   "cell_type": "code",
   "execution_count": 4,
   "metadata": {
    "collapsed": false
   },
   "outputs": [
    {
     "data": {
      "text/plain": [
       "dtype('O')"
      ]
     },
     "execution_count": 4,
     "metadata": {},
     "output_type": "execute_result"
    }
   ],
   "source": [
    "# If you force it to coerce too much you end up with \"object\" as a dtype, which is not useful. Stick to numbers.\n",
    "dont_do_this = np.array([1, False, \"a string\", object()])\n",
    "dont_do_this.dtype"
   ]
  },
  {
   "cell_type": "code",
   "execution_count": 5,
   "metadata": {
    "collapsed": false
   },
   "outputs": [
    {
     "data": {
      "text/plain": [
       "dtype('float64')"
      ]
     },
     "execution_count": 5,
     "metadata": {},
     "output_type": "execute_result"
    }
   ],
   "source": [
    "# You can specify the dtype when creating the ndarray, otherwise it will be inferred, defaulting to float64\n",
    "floats = np.array([0, 1, 2], dtype=\"float64\")\n",
    "floats.dtype"
   ]
  },
  {
   "cell_type": "markdown",
   "metadata": {},
   "source": [
    "## Arrays have shapes and sizes\n",
    "\n",
    "The \"nd\" in `ndarray` means arrays can have any number of *dimensions*. An array has the following properties:\n",
    "- `ndim`: the number of axes. Also known as the *rank* of the array.\n",
    "- `shape`: the dimensions of the array. A tuple of integers indicating the size of the array in each dimension.\n",
    "- `size`: the number of elements in the array.\n"
   ]
  },
  {
   "cell_type": "code",
   "execution_count": 6,
   "metadata": {
    "collapsed": false
   },
   "outputs": [
    {
     "name": "stdout",
     "output_type": "stream",
     "text": [
      "1 row, 3 columns\n",
      "[1 2 3]\n",
      "Array ndim:  1\n",
      "Array shape:  (3,)\n",
      "Array size:  3\n",
      "\n",
      "2 rows, 3 columns\n",
      "[[1 2 3]\n",
      " [4 5 6]]\n",
      "Array ndim:  2\n",
      "Array shape:  (2, 3)\n",
      "Array size:  6\n",
      "\n",
      "3 rows, 2 columns\n",
      "[[1 2]\n",
      " [3 4]\n",
      " [5 6]]\n",
      "Array ndim:  2\n",
      "Array shape:  (3, 2)\n",
      "Array size:  6\n",
      "\n",
      "2 faces, 3 rows, 1 column\n",
      "[[[1]\n",
      "  [2]\n",
      "  [3]]\n",
      "\n",
      " [[4]\n",
      "  [5]\n",
      "  [6]]]\n",
      "Array ndim:  3\n",
      "Array shape:  (2, 3, 1)\n",
      "Array size:  6\n",
      "\n"
     ]
    }
   ],
   "source": [
    "def describe_array(name, a):\n",
    "    print(name)\n",
    "    print(a)\n",
    "    print(\"Array ndim: \", a.ndim)\n",
    "    print(\"Array shape: \", a.shape)\n",
    "    print(\"Array size: \", a.size)\n",
    "    print()\n",
    "\n",
    "\n",
    "describe_array(\"1 row, 3 columns\", np.array([1, 2, 3]))\n",
    "describe_array(\"2 rows, 3 columns\", np.array([[1, 2, 3], [4, 5, 6]]))\n",
    "describe_array(\"3 rows, 2 columns\", np.array([[1, 2], [3, 4], [5, 6]]))\n",
    "describe_array(\"2 faces, 3 rows, 1 column\", np.array([[[1], [2], [3]], [[4], [5], [6]]]))"
   ]
  },
  {
   "cell_type": "code",
   "execution_count": 7,
   "metadata": {
    "collapsed": false
   },
   "outputs": [
    {
     "data": {
      "text/plain": [
       "array([1, 2, 3, 4, 5, 6])"
      ]
     },
     "execution_count": 7,
     "metadata": {},
     "output_type": "execute_result"
    }
   ],
   "source": [
    "# arrays can be reshaped after they are created:\n",
    "a = np.array([1, 2, 3, 4, 5, 6])\n",
    "a"
   ]
  },
  {
   "cell_type": "code",
   "execution_count": 8,
   "metadata": {
    "collapsed": false
   },
   "outputs": [
    {
     "data": {
      "text/plain": [
       "array([[1, 2, 3],\n",
       "       [4, 5, 6]])"
      ]
     },
     "execution_count": 8,
     "metadata": {},
     "output_type": "execute_result"
    }
   ],
   "source": [
    "# two rows, 3 columns\n",
    "a.reshape(2, 3)"
   ]
  },
  {
   "cell_type": "markdown",
   "metadata": {},
   "source": [
    "## Creating Arrays\n",
    "\n",
    "There are several convenience functions for creating arrays.\n",
    "\n",
    "- `np.arange`: Create an array from a range of numbers\n",
    "- `np.zeros`: An array filled with zeroes\n",
    "- `np.ones`: An array filled with ones\n",
    "- `np.eye`: An identity matrix\n",
    "- `np.random.*`: Arrays filled with random values from various distributions\n"
   ]
  },
  {
   "cell_type": "code",
   "execution_count": 9,
   "metadata": {
    "collapsed": false
   },
   "outputs": [
    {
     "data": {
      "text/plain": [
       "array([0, 1, 2, 3, 4, 5, 6, 7, 8, 9])"
      ]
     },
     "execution_count": 9,
     "metadata": {},
     "output_type": "execute_result"
    }
   ],
   "source": [
    "# np.arange([start,], stop[, step])\n",
    "np.arange(10)"
   ]
  },
  {
   "cell_type": "code",
   "execution_count": 10,
   "metadata": {
    "collapsed": false
   },
   "outputs": [
    {
     "data": {
      "text/plain": [
       "array([100,  99,  98,  97,  96,  95,  94,  93,  92,  91])"
      ]
     },
     "execution_count": 10,
     "metadata": {},
     "output_type": "execute_result"
    }
   ],
   "source": [
    "np.arange(100, 90, -1)"
   ]
  },
  {
   "cell_type": "code",
   "execution_count": 11,
   "metadata": {
    "collapsed": false
   },
   "outputs": [
    {
     "data": {
      "text/plain": [
       "array([[ 0.,  0.,  0.]])"
      ]
     },
     "execution_count": 11,
     "metadata": {},
     "output_type": "execute_result"
    }
   ],
   "source": [
    "# np.zeros(shape) where `shape` is a tuple.\n",
    "# e.g. 1 row, 3 columns\n",
    "np.zeros((1, 3))"
   ]
  },
  {
   "cell_type": "code",
   "execution_count": 12,
   "metadata": {
    "collapsed": false
   },
   "outputs": [
    {
     "data": {
      "text/plain": [
       "array([[[ 0.,  0.],\n",
       "        [ 0.,  0.],\n",
       "        [ 0.,  0.],\n",
       "        [ 0.,  0.],\n",
       "        [ 0.,  0.]],\n",
       "\n",
       "       [[ 0.,  0.],\n",
       "        [ 0.,  0.],\n",
       "        [ 0.,  0.],\n",
       "        [ 0.,  0.],\n",
       "        [ 0.,  0.]]])"
      ]
     },
     "execution_count": 12,
     "metadata": {},
     "output_type": "execute_result"
    }
   ],
   "source": [
    "# or 2 faces, 5 rows, 2 columns\n",
    "np.zeros((2, 5, 2))"
   ]
  },
  {
   "cell_type": "code",
   "execution_count": 13,
   "metadata": {
    "collapsed": false
   },
   "outputs": [
    {
     "data": {
      "text/plain": [
       "array([[ 1.,  0.,  0.,  0.],\n",
       "       [ 0.,  1.,  0.,  0.],\n",
       "       [ 0.,  0.,  1.,  0.],\n",
       "       [ 0.,  0.,  0.,  1.]])"
      ]
     },
     "execution_count": 13,
     "metadata": {},
     "output_type": "execute_result"
    }
   ],
   "source": [
    "# np.eye(rows, columns=None, k=0)\n",
    "np.eye(4)"
   ]
  },
  {
   "cell_type": "code",
   "execution_count": 14,
   "metadata": {
    "collapsed": false
   },
   "outputs": [
    {
     "data": {
      "text/plain": [
       "array([[3, 1, 5],\n",
       "       [1, 6, 8],\n",
       "       [7, 3, 6]])"
      ]
     },
     "execution_count": 14,
     "metadata": {},
     "output_type": "execute_result"
    }
   ],
   "source": [
    "# np.random.randint(low, high, shape)\n",
    "np.random.randint(0, 10, (3, 3))"
   ]
  },
  {
   "cell_type": "code",
   "execution_count": 15,
   "metadata": {
    "collapsed": false
   },
   "outputs": [
    {
     "data": {
      "text/plain": [
       "array([[-0.31658116,  0.26542722, -1.47822133,  0.27279407],\n",
       "       [ 0.27046756, -0.15220623, -1.77540136, -0.1908835 ],\n",
       "       [-1.10187215,  1.8128415 , -1.18787873, -1.05637888],\n",
       "       [ 0.70631434, -0.70923242,  0.90817108,  0.70193112]])"
      ]
     },
     "execution_count": 15,
     "metadata": {},
     "output_type": "execute_result"
    }
   ],
   "source": [
    "# np.random.normal(mean, stdev, shape)\n",
    "np.random.normal(0, 1, (4, 4))"
   ]
  },
  {
   "cell_type": "markdown",
   "metadata": {},
   "source": [
    "## Simple Arithmetic Operations on Arrays\n",
    "\n",
    "Buit-in python arithmetic operations work element-wise on arrays, like you would expect.\n",
    "\n",
    "NumPy also includes its own versions of many math operations as what it calls `ufunc`s, or universal functions. These offer high-speed, parallelized versions of basic operations.\n"
   ]
  },
  {
   "cell_type": "code",
   "execution_count": 16,
   "metadata": {
    "collapsed": false
   },
   "outputs": [
    {
     "name": "stdout",
     "output_type": "stream",
     "text": [
      "[0 1 2 3 4 5 6 7 8 9]\n"
     ]
    }
   ],
   "source": [
    "a = np.arange(0, 10)\n",
    "print(a)"
   ]
  },
  {
   "cell_type": "code",
   "execution_count": 17,
   "metadata": {
    "collapsed": false
   },
   "outputs": [
    {
     "data": {
      "text/plain": [
       "array([10, 11, 12, 13, 14, 15, 16, 17, 18, 19])"
      ]
     },
     "execution_count": 17,
     "metadata": {},
     "output_type": "execute_result"
    }
   ],
   "source": [
    "a + 10"
   ]
  },
  {
   "cell_type": "code",
   "execution_count": 18,
   "metadata": {
    "collapsed": false
   },
   "outputs": [
    {
     "data": {
      "text/plain": [
       "array([ 0,  2,  4,  6,  8, 10, 12, 14, 16, 18])"
      ]
     },
     "execution_count": 18,
     "metadata": {},
     "output_type": "execute_result"
    }
   ],
   "source": [
    "a * 2"
   ]
  },
  {
   "cell_type": "markdown",
   "metadata": {},
   "source": [
    "### List vs. Array Performance\n",
    "\n",
    "It's easy to prove that for numeric operations, NumPy arrays vastly outperform lists."
   ]
  },
  {
   "cell_type": "code",
   "execution_count": 19,
   "metadata": {
    "collapsed": true
   },
   "outputs": [],
   "source": [
    "# Let's create a python list and an array, each with 10 million integers.\n",
    "big_list = list(range(10000000))\n",
    "big_array = np.arange(10000000)"
   ]
  },
  {
   "cell_type": "code",
   "execution_count": 20,
   "metadata": {
    "collapsed": false
   },
   "outputs": [
    {
     "name": "stdout",
     "output_type": "stream",
     "text": [
      "1 loop, best of 3: 1.18 s per loop\n"
     ]
    }
   ],
   "source": [
    "# See how long it takes to get a new list containing the square of each element from big_list\n",
    "%timeit big_list_squared = [i * i for i in big_list]"
   ]
  },
  {
   "cell_type": "code",
   "execution_count": 21,
   "metadata": {
    "collapsed": false
   },
   "outputs": [
    {
     "name": "stdout",
     "output_type": "stream",
     "text": [
      "10 loops, best of 3: 23.9 ms per loop\n"
     ]
    }
   ],
   "source": [
    "# See how long it takes to get a new array containing the square of each element from big_array\n",
    "%timeit big_array_squared = big_array * big_array"
   ]
  },
  {
   "cell_type": "code",
   "execution_count": 22,
   "metadata": {
    "collapsed": false
   },
   "outputs": [
    {
     "name": "stdout",
     "output_type": "stream",
     "text": [
      "1 loop, best of 3: 2.21 s per loop\n"
     ]
    }
   ],
   "source": [
    "import math\n",
    "%timeit big_list_sines = [math.sin(i) for i in big_list]"
   ]
  },
  {
   "cell_type": "code",
   "execution_count": 23,
   "metadata": {
    "collapsed": false
   },
   "outputs": [
    {
     "name": "stdout",
     "output_type": "stream",
     "text": [
      "1 loop, best of 3: 121 ms per loop\n"
     ]
    }
   ],
   "source": [
    "# numpy ufuncs provide vectorized operations that go beyond simple arithmetic.\n",
    "# np.sin() calculates the sine of each element in the passed-in array.\n",
    "%timeit big_array_sines = np.sin(big_array)"
   ]
  },
  {
   "cell_type": "code",
   "execution_count": 24,
   "metadata": {
    "collapsed": false
   },
   "outputs": [
    {
     "data": {
      "text/plain": [
       "85.83079528808594"
      ]
     },
     "execution_count": 24,
     "metadata": {},
     "output_type": "execute_result"
    }
   ],
   "source": [
    "# And not only is the list slower, it also uses a more memory. Below is its size in mbytes.\n",
    "import sys\n",
    "sys.getsizeof(big_list) / 1024 / 1024"
   ]
  },
  {
   "cell_type": "code",
   "execution_count": 25,
   "metadata": {
    "collapsed": false
   },
   "outputs": [
    {
     "data": {
      "text/plain": [
       "38.147064208984375"
      ]
     },
     "execution_count": 25,
     "metadata": {},
     "output_type": "execute_result"
    }
   ],
   "source": [
    "# vs. the size of the array in mbytes\n",
    "sys.getsizeof(big_array) / 1024 / 1024"
   ]
  },
  {
   "cell_type": "code",
   "execution_count": 26,
   "metadata": {
    "collapsed": false
   },
   "outputs": [
    {
     "name": "stdout",
     "output_type": "stream",
     "text": [
      "a1: array([[0, 1, 2],\n",
      "       [3, 4, 5],\n",
      "       [6, 7, 8]])\n",
      "\n",
      "a2: array([[10, 11, 12],\n",
      "       [13, 14, 15],\n",
      "       [16, 17, 18]])\n"
     ]
    }
   ],
   "source": [
    "# Note there is a special function for the dot product, do not use the built-in '*' operator\n",
    "a1 = np.arange(0, 9).reshape(3,3)\n",
    "a2 = np.arange(10, 19).reshape(3,3)\n",
    "print(\"a1:\", repr(a1))\n",
    "print()\n",
    "print(\"a2:\", repr(a2))\n"
   ]
  },
  {
   "cell_type": "code",
   "execution_count": 27,
   "metadata": {
    "collapsed": false
   },
   "outputs": [
    {
     "data": {
      "text/plain": [
       "array([[  0,  11,  24],\n",
       "       [ 39,  56,  75],\n",
       "       [ 96, 119, 144]])"
      ]
     },
     "execution_count": 27,
     "metadata": {},
     "output_type": "execute_result"
    }
   ],
   "source": [
    "# the * operator performs element-wise multiplication\n",
    "a1 * a2"
   ]
  },
  {
   "cell_type": "code",
   "execution_count": 28,
   "metadata": {
    "collapsed": false
   },
   "outputs": [
    {
     "data": {
      "text/plain": [
       "array([ 35, 134, 233])"
      ]
     },
     "execution_count": 28,
     "metadata": {},
     "output_type": "execute_result"
    }
   ],
   "source": [
    "# to get the dot product of a matrix and a vector:\n",
    "a1.dot(a2[0])"
   ]
  },
  {
   "cell_type": "code",
   "execution_count": 29,
   "metadata": {
    "collapsed": false
   },
   "outputs": [
    {
     "data": {
      "text/plain": [
       "array([[ 45,  48,  51],\n",
       "       [162, 174, 186],\n",
       "       [279, 300, 321]])"
      ]
     },
     "execution_count": 29,
     "metadata": {},
     "output_type": "execute_result"
    }
   ],
   "source": [
    "# or the dot product of two matrices:\n",
    "a1.dot(a2)"
   ]
  },
  {
   "cell_type": "code",
   "execution_count": 30,
   "metadata": {
    "collapsed": false
   },
   "outputs": [
    {
     "data": {
      "text/plain": [
       "array([[ 45,  48,  51],\n",
       "       [162, 174, 186],\n",
       "       [279, 300, 321]])"
      ]
     },
     "execution_count": 30,
     "metadata": {},
     "output_type": "execute_result"
    }
   ],
   "source": [
    "np.matmul(a1, a2)"
   ]
  },
  {
   "cell_type": "markdown",
   "metadata": {},
   "source": [
    "## Matrices\n",
    "\n",
    "NumPy actually does provide a special `ndarray` subclass called `matrix`. It is essentially a two-dimensional array with a few extra utility functions and custom operators.\n",
    "\n",
    "Notably, applying the built-in `*` operator to matrix objects results in the dot product."
   ]
  },
  {
   "cell_type": "code",
   "execution_count": 31,
   "metadata": {
    "collapsed": false
   },
   "outputs": [],
   "source": [
    "m1 = np.matrix(a1)\n",
    "m2 = np.matrix(a2)"
   ]
  },
  {
   "cell_type": "code",
   "execution_count": 32,
   "metadata": {
    "collapsed": false
   },
   "outputs": [
    {
     "data": {
      "text/plain": [
       "matrix([[ 45,  48,  51],\n",
       "        [162, 174, 186],\n",
       "        [279, 300, 321]])"
      ]
     },
     "execution_count": 32,
     "metadata": {},
     "output_type": "execute_result"
    }
   ],
   "source": [
    "m1 * m2"
   ]
  },
  {
   "cell_type": "markdown",
   "metadata": {},
   "source": [
    "## Accessing Array Elements and Slicing\n",
    "\n",
    "Arrays can be sliced like so:\n",
    "    \n",
    "    array[lower:upper:step]\n",
    "\n",
    "The `upper` bound is never included in the result."
   ]
  },
  {
   "cell_type": "code",
   "execution_count": 33,
   "metadata": {
    "collapsed": false
   },
   "outputs": [
    {
     "data": {
      "text/plain": [
       "array([11, 12])"
      ]
     },
     "execution_count": 33,
     "metadata": {},
     "output_type": "execute_result"
    }
   ],
   "source": [
    "a = np.array([10, 11, 12, 13, 14])\n",
    "a[1:3]"
   ]
  },
  {
   "cell_type": "code",
   "execution_count": 34,
   "metadata": {
    "collapsed": false
   },
   "outputs": [
    {
     "data": {
      "text/plain": [
       "array([[0, 1, 2],\n",
       "       [3, 4, 5],\n",
       "       [6, 7, 8]])"
      ]
     },
     "execution_count": 34,
     "metadata": {},
     "output_type": "execute_result"
    }
   ],
   "source": [
    "# slicing a multidimensional array:\n",
    "a = np.arange(9).reshape(3, 3)\n",
    "a"
   ]
  },
  {
   "cell_type": "code",
   "execution_count": 35,
   "metadata": {
    "collapsed": false
   },
   "outputs": [
    {
     "data": {
      "text/plain": [
       "4"
      ]
     },
     "execution_count": 35,
     "metadata": {},
     "output_type": "execute_result"
    }
   ],
   "source": [
    "# to get a scalar element value, specify its location in all dimensions (here, just row and column):\n",
    "a[1, 1]"
   ]
  },
  {
   "cell_type": "code",
   "execution_count": 36,
   "metadata": {
    "collapsed": false
   },
   "outputs": [
    {
     "data": {
      "text/plain": [
       "array([0, 1, 2])"
      ]
     },
     "execution_count": 36,
     "metadata": {},
     "output_type": "execute_result"
    }
   ],
   "source": [
    "# retrieve an entire row by index:\n",
    "a[0]"
   ]
  },
  {
   "cell_type": "code",
   "execution_count": 37,
   "metadata": {
    "collapsed": false
   },
   "outputs": [
    {
     "data": {
      "text/plain": [
       "array([0, 3, 6])"
      ]
     },
     "execution_count": 37,
     "metadata": {},
     "output_type": "execute_result"
    }
   ],
   "source": [
    "# retrieve an entire column by index (note the slice syntax to get all rows,\n",
    "# then the index to specify which column to extract from each row)\n",
    "a[:, 0]"
   ]
  },
  {
   "cell_type": "code",
   "execution_count": 38,
   "metadata": {
    "collapsed": false
   },
   "outputs": [
    {
     "data": {
      "text/plain": [
       "array([[3, 4],\n",
       "       [6, 7]])"
      ]
     },
     "execution_count": 38,
     "metadata": {},
     "output_type": "execute_result"
    }
   ],
   "source": [
    "# to select a sub-matrix, use slice syntax to specify row and column locations.\n",
    "# here, we get the bottom-left corner of the matrix:\n",
    "# (all rows starting with the second row, and all columns but the last one)\n",
    "a[1:, :2]"
   ]
  },
  {
   "cell_type": "markdown",
   "metadata": {},
   "source": [
    "#### Array slices are \"views\", not copies\n",
    "\n",
    "That is, when you assign an array slice to a variable, and then change the data in the original array, the data in the variable (that is, the slice) changes as well."
   ]
  },
  {
   "cell_type": "code",
   "execution_count": 39,
   "metadata": {
    "collapsed": false
   },
   "outputs": [
    {
     "data": {
      "text/plain": [
       "array([0, 1, 2, 3, 4, 5, 6, 7, 8, 9])"
      ]
     },
     "execution_count": 39,
     "metadata": {},
     "output_type": "execute_result"
    }
   ],
   "source": [
    "# Get a slice of `a`, in this case the entire first row.\n",
    "a = np.arange(10)\n",
    "b = a[:]\n",
    "b"
   ]
  },
  {
   "cell_type": "code",
   "execution_count": 40,
   "metadata": {
    "collapsed": true
   },
   "outputs": [],
   "source": [
    "# Now let's change the last element from 9 to 90\n",
    "a[-1] = 90"
   ]
  },
  {
   "cell_type": "code",
   "execution_count": 41,
   "metadata": {
    "collapsed": false
   },
   "outputs": [
    {
     "data": {
      "text/plain": [
       "array([ 0,  1,  2,  3,  4,  5,  6,  7,  8, 90])"
      ]
     },
     "execution_count": 41,
     "metadata": {},
     "output_type": "execute_result"
    }
   ],
   "source": [
    "# and we see that the value changes in the view as well.\n",
    "b"
   ]
  },
  {
   "cell_type": "code",
   "execution_count": 42,
   "metadata": {
    "collapsed": false
   },
   "outputs": [
    {
     "data": {
      "text/plain": [
       "array([0, 1, 2, 3, 4, 5, 6, 7, 8, 9])"
      ]
     },
     "execution_count": 42,
     "metadata": {},
     "output_type": "execute_result"
    }
   ],
   "source": [
    "# to get a copy of an array, use the `copy` method:\n",
    "a = np.arange(10)\n",
    "b = a.copy()\n",
    "b"
   ]
  },
  {
   "cell_type": "code",
   "execution_count": 43,
   "metadata": {
    "collapsed": false
   },
   "outputs": [
    {
     "data": {
      "text/plain": [
       "array([0, 1, 2, 3, 4, 5, 6, 7, 8, 9])"
      ]
     },
     "execution_count": 43,
     "metadata": {},
     "output_type": "execute_result"
    }
   ],
   "source": [
    "# because we used `copy` to create array `b`, changing a value in `a` will not affect `b`:\n",
    "a[-1] = 90\n",
    "b"
   ]
  },
  {
   "cell_type": "markdown",
   "metadata": {},
   "source": [
    "#### \"Fancy Indexing\"\n",
    "\n",
    "You can use boolean comparisons to select just the elements you want from an array."
   ]
  },
  {
   "cell_type": "code",
   "execution_count": 44,
   "metadata": {
    "collapsed": false
   },
   "outputs": [
    {
     "name": "stdout",
     "output_type": "stream",
     "text": [
      "[1 8 7 7 5 2 5 8 5 2 9 2 0 9 9 4 3 0 7 3]\n",
      "[False  True  True  True False False False  True False False  True False\n",
      " False  True  True False False False  True False]\n"
     ]
    }
   ],
   "source": [
    "# boolean comparisons to arrays produce a \"mask\" array: an array of the same shape filled with boolean values\n",
    "# indicating whether the item at that position in the original array meets the boolean condition.\n",
    "a = np.random.randint(0, 10, (20))\n",
    "print(a)\n",
    "print(a > 5)"
   ]
  },
  {
   "cell_type": "code",
   "execution_count": 45,
   "metadata": {
    "collapsed": false
   },
   "outputs": [
    {
     "data": {
      "text/plain": [
       "array([8, 7, 7, 8, 9, 9, 9, 7])"
      ]
     },
     "execution_count": 45,
     "metadata": {},
     "output_type": "execute_result"
    }
   ],
   "source": [
    "# We can now use that \"mask\" array to select elements from an array with the same shape.\n",
    "# for example, below will give us a new array with only the elements in `a` greater than 5.\n",
    "# NB: in this case we get a copy of the original data, not a view like we would if we had sliced the array.\n",
    "a[a > 5]"
   ]
  },
  {
   "cell_type": "code",
   "execution_count": 46,
   "metadata": {
    "collapsed": false
   },
   "outputs": [
    {
     "data": {
      "text/plain": [
       "array([1, 8, 2, 8, 2, 9, 2, 0, 9, 9, 0])"
      ]
     },
     "execution_count": 46,
     "metadata": {},
     "output_type": "execute_result"
    }
   ],
   "source": [
    "# It's possible to chain multiple boolean tests together with the & and | operators\n",
    "# (although the conditions must be in parentheses)\n",
    "a[(a <= 2) | (a >= 8)]"
   ]
  },
  {
   "cell_type": "markdown",
   "metadata": {},
   "source": [
    "## Transposition\n",
    "\n",
    "`ndarray` objects provide easy access to their transposed axes. That is, we can turn rows into columns and vice-versa."
   ]
  },
  {
   "cell_type": "code",
   "execution_count": 47,
   "metadata": {
    "collapsed": false
   },
   "outputs": [
    {
     "data": {
      "text/plain": [
       "array([[[ 0,  1,  2],\n",
       "        [ 3,  4,  5],\n",
       "        [ 6,  7,  8]],\n",
       "\n",
       "       [[ 9, 10, 11],\n",
       "        [12, 13, 14],\n",
       "        [15, 16, 17]]])"
      ]
     },
     "execution_count": 47,
     "metadata": {},
     "output_type": "execute_result"
    }
   ],
   "source": [
    "a = np.arange(18).reshape((2,3,3))\n",
    "a"
   ]
  },
  {
   "cell_type": "code",
   "execution_count": 48,
   "metadata": {
    "collapsed": false
   },
   "outputs": [
    {
     "data": {
      "text/plain": [
       "array([[[ 0,  9],\n",
       "        [ 3, 12],\n",
       "        [ 6, 15]],\n",
       "\n",
       "       [[ 1, 10],\n",
       "        [ 4, 13],\n",
       "        [ 7, 16]],\n",
       "\n",
       "       [[ 2, 11],\n",
       "        [ 5, 14],\n",
       "        [ 8, 17]]])"
      ]
     },
     "execution_count": 48,
     "metadata": {},
     "output_type": "execute_result"
    }
   ],
   "source": [
    "# the `T` property of an ndarray provides easy access to the transpositions of all axes:\n",
    "a.T"
   ]
  },
  {
   "cell_type": "code",
   "execution_count": 49,
   "metadata": {
    "collapsed": false
   },
   "outputs": [
    {
     "data": {
      "text/plain": [
       "array([[[ 0,  3,  6],\n",
       "        [ 1,  4,  7],\n",
       "        [ 2,  5,  8]],\n",
       "\n",
       "       [[ 9, 12, 15],\n",
       "        [10, 13, 16],\n",
       "        [11, 14, 17]]])"
      ]
     },
     "execution_count": 49,
     "metadata": {},
     "output_type": "execute_result"
    }
   ],
   "source": [
    "# the `transpose` method lets us transpose axes in a particular order:\n",
    "a.transpose((0, 2, 1))"
   ]
  },
  {
   "cell_type": "markdown",
   "metadata": {},
   "source": [
    "### Vector Stacking and Combining.\n",
    "\n",
    "Combining arrays can be done multiple ways.\n",
    "\n",
    "\"Stacking\" means keeping the original arrays intact as new rows or columns on a new dimension.\n",
    "\n",
    "\"Concatenating\" means combining into a new array with the same dimensionality as the original arrays."
   ]
  },
  {
   "cell_type": "code",
   "execution_count": 50,
   "metadata": {
    "collapsed": false
   },
   "outputs": [],
   "source": [
    "a1 = np.arange(3)\n",
    "a2 = np.arange(3, 6)"
   ]
  },
  {
   "cell_type": "code",
   "execution_count": 51,
   "metadata": {
    "collapsed": false
   },
   "outputs": [
    {
     "data": {
      "text/plain": [
       "array([[0, 1, 2],\n",
       "       [3, 4, 5]])"
      ]
     },
     "execution_count": 51,
     "metadata": {},
     "output_type": "execute_result"
    }
   ],
   "source": [
    "# stack \"column-wise\". This can also be done via the deprecated `np.hstack` function.\n",
    "np.stack([a1, a2])"
   ]
  },
  {
   "cell_type": "code",
   "execution_count": 52,
   "metadata": {
    "collapsed": false
   },
   "outputs": [
    {
     "data": {
      "text/plain": [
       "array([[0, 3],\n",
       "       [1, 4],\n",
       "       [2, 5]])"
      ]
     },
     "execution_count": 52,
     "metadata": {},
     "output_type": "execute_result"
    }
   ],
   "source": [
    "# stack \"row-wise\", as the `np.vstack` function.\n",
    "np.stack([a1, a2], axis=1)"
   ]
  },
  {
   "cell_type": "code",
   "execution_count": 53,
   "metadata": {
    "collapsed": false
   },
   "outputs": [
    {
     "data": {
      "text/plain": [
       "array([0, 1, 2, 3, 4, 5])"
      ]
     },
     "execution_count": 53,
     "metadata": {},
     "output_type": "execute_result"
    }
   ],
   "source": [
    "np.concatenate([a1, a2])"
   ]
  },
  {
   "cell_type": "markdown",
   "metadata": {},
   "source": [
    "\n",
    "\n",
    "### Loading (and saving) Data\n",
    "\n",
    "There are several built-in functions in NumPy to load data.\n",
    "\n",
    "- `fromfile`: fast and efficient loading of binary data (or simple text files)\n",
    "- `ndarray.tofile`: save the contents of an array to a data file (NOT PORTABLE!)\n",
    "- `save`: save an array in a portable format\n",
    "- `load`: load data from the portable `save` format\n",
    "- `loadtxt`: more flexible way of loading data from a text file\n",
    "- `savetxt`: save data to a text file, with custom formatting\n",
    "- `genfromtxt`: very flexible data loading, can handle missing/empty data\n"
   ]
  },
  {
   "cell_type": "code",
   "execution_count": 54,
   "metadata": {
    "collapsed": false
   },
   "outputs": [
    {
     "name": "stdout",
     "output_type": "stream",
     "text": [
      "Month,Delta,Abs(Delta)\n",
      "\n",
      "1,70.77,70.77\n",
      "\n",
      "2,78.64,78.64\n",
      "\n",
      "3,71.78,71.78\n",
      "\n",
      "4,69.57,69.57\n",
      "\n",
      "5,61.48,61.48\n",
      "\n",
      "6,22.23,23.3\n",
      "\n",
      "7,-40.74,40.74\n",
      "\n",
      "8,-89.19,89.19\n",
      "\n",
      "9,-106.9,106.9\n",
      "\n",
      "10,-95.84,95.84\n",
      "\n",
      "11,-52.83,52.83\n",
      "\n",
      "12,16.65,22.26\n",
      "\n"
     ]
    }
   ],
   "source": [
    "with open('data.csv') as f:\n",
    "    for row in f:\n",
    "        print(row)"
   ]
  },
  {
   "cell_type": "code",
   "execution_count": 55,
   "metadata": {
    "collapsed": false
   },
   "outputs": [],
   "source": [
    "data = np.loadtxt(\"data.csv\", skiprows=1, delimiter=\",\")"
   ]
  },
  {
   "cell_type": "code",
   "execution_count": 56,
   "metadata": {
    "collapsed": false
   },
   "outputs": [
    {
     "data": {
      "text/plain": [
       "array([[   1.  ,   70.77,   70.77],\n",
       "       [   2.  ,   78.64,   78.64],\n",
       "       [   3.  ,   71.78,   71.78],\n",
       "       [   4.  ,   69.57,   69.57],\n",
       "       [   5.  ,   61.48,   61.48],\n",
       "       [   6.  ,   22.23,   23.3 ],\n",
       "       [   7.  ,  -40.74,   40.74],\n",
       "       [   8.  ,  -89.19,   89.19],\n",
       "       [   9.  , -106.9 ,  106.9 ],\n",
       "       [  10.  ,  -95.84,   95.84],\n",
       "       [  11.  ,  -52.83,   52.83],\n",
       "       [  12.  ,   16.65,   22.26]])"
      ]
     },
     "execution_count": 56,
     "metadata": {},
     "output_type": "execute_result"
    }
   ],
   "source": [
    "data"
   ]
  },
  {
   "cell_type": "code",
   "execution_count": 57,
   "metadata": {
    "collapsed": false
   },
   "outputs": [
    {
     "data": {
      "text/plain": [
       "dtype('float64')"
      ]
     },
     "execution_count": 57,
     "metadata": {},
     "output_type": "execute_result"
    }
   ],
   "source": [
    "data.dtype"
   ]
  },
  {
   "cell_type": "code",
   "execution_count": 58,
   "metadata": {
    "collapsed": false,
    "scrolled": true
   },
   "outputs": [
    {
     "data": {
      "text/plain": [
       "array([[   1.  ,   70.77,   70.77],\n",
       "       [   2.  ,   78.64,   78.64],\n",
       "       [   3.  ,   71.78,   71.78],\n",
       "       [   4.  ,   69.57,   69.57],\n",
       "       [   5.  ,   61.48,   61.48],\n",
       "       [   6.  ,   22.23,   23.3 ],\n",
       "       [   7.  ,  -40.74,   40.74],\n",
       "       [   8.  ,  -89.19,   89.19],\n",
       "       [   9.  , -106.9 ,  106.9 ],\n",
       "       [  10.  ,  -95.84,   95.84],\n",
       "       [  11.  ,  -52.83,   52.83],\n",
       "       [  12.  ,   16.65,   22.26]])"
      ]
     },
     "execution_count": 58,
     "metadata": {},
     "output_type": "execute_result"
    }
   ],
   "source": [
    "# By default, genfromtxt gives the same (two-dimensional) output.\n",
    "np.genfromtxt(\"data.csv\", skip_header=1, delimiter=\",\")"
   ]
  },
  {
   "cell_type": "code",
   "execution_count": 59,
   "metadata": {
    "collapsed": false,
    "scrolled": true
   },
   "outputs": [
    {
     "data": {
      "text/plain": [
       "array([( 1,   70.77,   70.77), ( 2,   78.64,   78.64),\n",
       "       ( 3,   71.78,   71.78), ( 4,   69.57,   69.57),\n",
       "       ( 5,   61.48,   61.48), ( 6,   22.23,   23.3 ),\n",
       "       ( 7,  -40.74,   40.74), ( 8,  -89.19,   89.19),\n",
       "       ( 9, -106.9 ,  106.9 ), (10,  -95.84,   95.84),\n",
       "       (11,  -52.83,   52.83), (12,   16.65,   22.26)], \n",
       "      dtype=[('f0', '<i4'), ('f1', '<f8'), ('f2', '<f8')])"
      ]
     },
     "execution_count": 59,
     "metadata": {},
     "output_type": "execute_result"
    }
   ],
   "source": [
    "# But if we specify `dtype=None` as an argument, it returns a one-dimensional array of \"structured\" arrays,\n",
    "# where the data type for each element is determined automatically.\n",
    "arr = np.genfromtxt(\"data.csv\", dtype=None, skip_header=1, delimiter=\",\")\n",
    "arr"
   ]
  },
  {
   "cell_type": "markdown",
   "metadata": {},
   "source": [
    "## Working with polynomials \n",
    "\n",
    "Assume a polynomial in the form: $y = 3*x^{2} + 2*x - 1$\n",
    "We will query attributes of the polynomial, randomize the curve and fit a profile to it"
   ]
  },
  {
   "cell_type": "code",
   "execution_count": 60,
   "metadata": {
    "collapsed": false,
    "scrolled": true
   },
   "outputs": [
    {
     "name": "stdout",
     "output_type": "stream",
     "text": [
      "Show the constant\n",
      "-1\n",
      "Print the roots of the polynomial\n",
      "[-1.          0.33333333]\n",
      "Print the order of the polynomial\n",
      "2\n",
      "Create X-values\n",
      "x values =  [ 0.          0.05263158  0.10526316  0.15789474  0.21052632  0.26315789\n",
      "  0.31578947  0.36842105  0.42105263  0.47368421  0.52631579  0.57894737\n",
      "  0.63157895  0.68421053  0.73684211  0.78947368  0.84210526  0.89473684\n",
      "  0.94736842  1.        ]\n",
      "Create random y values about the curve\n",
      "y values =  [ 1.17125943  1.26111751  1.01935393  1.07715193  0.98566961  1.1184045\n",
      "  1.11763656  1.01833367  1.07060771  1.06581354  1.1545672   1.12847521\n",
      "  0.9145114   0.945719    0.96414799  0.86526716  0.77815592  0.70337329\n",
      "  0.60026996  0.55305537]\n",
      "Fit the data using polyfit and constuct a polynomial from the fit\n",
      "plot the data and the fit\n"
     ]
    },
    {
     "data": {
      "image/png": "[encoded data removed]",
      "text/plain": [
       "<matplotlib.figure.Figure at 0x178838fd588>"
      ]
     },
     "metadata": {},
     "output_type": "display_data"
    }
   ],
   "source": [
    "import numpy as np\n",
    "import matplotlib.pyplot as plt\n",
    "p = np.poly1d([3, 2, -1])\n",
    "print('Show the constant')\n",
    "print(p(0))\n",
    "print('Print the roots of the polynomial')\n",
    "print(p.roots)\n",
    "print('Print the order of the polynomial')\n",
    "print(p.order)\n",
    "print('Create X-values')\n",
    "x = np.linspace(0, 1, 20)\n",
    "print('x values = ',x)\n",
    "print('Create random y values about the curve')\n",
    "y = np.cos(x) + 0.3*np.random.rand(20)\n",
    "print('y values = ',y)\n",
    "print('Fit the data using polyfit and constuct a polynomial from the fit')\n",
    "p = np.poly1d(np.polyfit(x, y, 3))\n",
    "t = np.linspace(0, 1, 200)\n",
    "print('plot the data and the fit')\n",
    "plt.plot(x, y, 'o', t, p(t), '-')\n",
    "plt.show()"
   ]
  },
  {
   "cell_type": "markdown",
   "metadata": {},
   "source": [
    "## Calculating Norms of Arrays\n",
    "\n",
    "The norms of mxn matrices are useful in matrix algebra. Typical applications include calculating the matrix trace or are part of SVD (single value decomposition) algorithms for matrix factorizations. A matrix factorization of a square matrix in the form $A =UDV^{T}$ can be used to calculate the inverse $A^{-1}=VD^{-1}U^{T}$.\n"
   ]
  },
  {
   "cell_type": "code",
   "execution_count": 61,
   "metadata": {
    "collapsed": false
   },
   "outputs": [
    {
     "name": "stdout",
     "output_type": "stream",
     "text": [
      "[[1 2]\n",
      " [3 4]]\n",
      "Norm of the array 5.47722557505\n",
      "Frobenius Norm is the default ||A||=[\\sum_{i}{j} abs(a_{ij})^2]^[1/2]= 5.47722557505\n",
      "max(sum(abs(x), axis=0))= 6.0\n",
      "min(sum(abs(x), axis=0))= 4.0\n",
      "max(abs(x))= 7.0\n"
     ]
    }
   ],
   "source": [
    "import numpy as np\n",
    "A=np.array([[1,2],[3,4]])\n",
    "print(A)\n",
    "result_one=np.linalg.norm(A)\n",
    "result_two=np.linalg.norm(A,'fro') # frobenius norm\n",
    "result_three=np.linalg.norm(A,1) # L1 norm (max column sum)\n",
    "result_four=np.linalg.norm(A,-1)\n",
    "result_five=np.linalg.norm(A,np.inf) # L inf norm (max row sum)\n",
    "\n",
    "print(\"Norm of the array\",result_one)\n",
    "print(\"Frobenius Norm is the default ||A||=[\\sum_{i}{j} abs(a_{ij})^2]^[1/2]=\",result_two)\n",
    "print(\"max(sum(abs(x), axis=0))=\", result_three)\n",
    "print(\"min(sum(abs(x), axis=0))=\",result_four)\n",
    "print(\"max(abs(x))=\",result_five)"
   ]
  },
  {
   "cell_type": "markdown",
   "metadata": {},
   "source": [
    "## Calculating the determinant \n",
    "\n",
    "Calculating the determinant of the matrix. If $M_{ij}$ is the determinant of a square matrix left by removing the $i^{th}$ row and $j^{th}$ column from array A then for any row i: $det(A)=\\sum_{j}(-1)^{i+j}a_{ij}M_{ij}$"
   ]
  },
  {
   "cell_type": "code",
   "execution_count": 62,
   "metadata": {
    "collapsed": false
   },
   "outputs": [
    {
     "name": "stdout",
     "output_type": "stream",
     "text": [
      "[[1 2 3]\n",
      " [3 4 6]\n",
      " [7 8 9]]\n",
      "6.0\n"
     ]
    }
   ],
   "source": [
    "import numpy as np\n",
    "A = np.array([[1,2,3],[3,4,6],[7,8,9]])\n",
    "print(A)\n",
    "determ=np.linalg.det(A)\n",
    "print(determ)"
   ]
  },
  {
   "cell_type": "markdown",
   "metadata": {},
   "source": [
    "## Solving a linear system of equations\n",
    "Solving a linear system of equations has a wide range of applications and can be used in obtaining solutions for sets of ordinary ordinary differential equations. An algebraic representation of the problem is: \n",
    "A * X = b, where A is square array containing the constant factors, X is a vector of indeterminate values and b are the constrains."
   ]
  },
  {
   "cell_type": "code",
   "execution_count": 63,
   "metadata": {
    "collapsed": false
   },
   "outputs": [
    {
     "name": "stdout",
     "output_type": "stream",
     "text": [
      "[ 0.28571429  2.42857143  2.85714286]\n"
     ]
    },
    {
     "data": {
      "text/plain": [
       "True"
      ]
     },
     "execution_count": 63,
     "metadata": {},
     "output_type": "execute_result"
    }
   ],
   "source": [
    "import numpy as np\n",
    "#Solve the linear system 3x1+x2+2x3=9 x1+2x2+x3=8 2x2-1x3=2\n",
    "A = np.array([[3,1,2], [1,2,1],[0,2,-1]])\n",
    "b = np.array([9,8,2])\n",
    "x = np.linalg.solve(A, b)\n",
    "print(x)\n",
    "np.allclose(np.dot(A, x), b)\n",
    "\n",
    "#Returns True if two arrays are element-wise equal within a tolerance.\n"
   ]
  },
  {
   "cell_type": "markdown",
   "metadata": {},
   "source": [
    "## Array Transformations \n",
    "We will define a complex array and perform some common transformations to it"
   ]
  },
  {
   "cell_type": "code",
   "execution_count": 64,
   "metadata": {
    "collapsed": false,
    "scrolled": true
   },
   "outputs": [
    {
     "name": "stdout",
     "output_type": "stream",
     "text": [
      "Complex Array A\n",
      "[[ 3.+0.j   1.+0.j   4.+0.1j]\n",
      " [ 1.+0.j   5.-2.j   9.+0.j ]\n",
      " [ 2.+0.j   6.+2.j   5.+0.j ]]\n",
      "<class 'numpy.matrixlib.defmatrix.matrix'> complex128 (3, 3)\n"
     ]
    }
   ],
   "source": [
    "import numpy as np\n",
    "\n",
    "#using the mat functions\n",
    "#make an array from for a list of lists\n",
    "\n",
    "A = np.mat([[3, 1, 4+0.1j], [1, 5-2j, 9], [2, 6+2j, 5]])\n",
    "print('Complex Array A')\n",
    "print(A)\n",
    "\n",
    "print(type(A), A.dtype, A.shape)\n"
   ]
  },
  {
   "cell_type": "markdown",
   "metadata": {},
   "source": [
    "## Common transformations \n",
    ".T     transpose\n",
    "\n",
    ".H     Hermitian transpose (transpose with complex conjugate) A.H=transpose(A*)\n",
    "\n",
    ".I     matrix inverse\n",
    "\n",
    ".A     matrix as a basic ndarray\n",
    "\n",
    ".A1    matrix as a one-dimensional ndarray\n"
   ]
  },
  {
   "cell_type": "code",
   "execution_count": 65,
   "metadata": {
    "collapsed": false
   },
   "outputs": [
    {
     "name": "stdout",
     "output_type": "stream",
     "text": [
      "Transpose of A=\n",
      "[[ 3.+0.j   1.+0.j   2.+0.j ]\n",
      " [ 1.+0.j   5.-2.j   6.+2.j ]\n",
      " [ 4.+0.1j  9.+0.j   5.+0.j ]]\n",
      "Hermitian of A=\n",
      "[[ 3.-0.j   1.-0.j   2.-0.j ]\n",
      " [ 1.-0.j   5.+2.j   6.-2.j ]\n",
      " [ 4.-0.1j  9.-0.j   5.-0.j ]]\n",
      "Inverse of A=\n",
      "[[ 0.36423841+0.06622517j -0.18746816+0.03005604j  0.04737646-0.11436577j]\n",
      " [-0.09933775+0.06622517j -0.05247071+0.03718798j  0.17524198-0.11793174j]\n",
      " [ 0.00000000-0.06622517j  0.15282731-0.0356597j  -0.07641365+0.1171676j ]]\n",
      "Standard ndarray=\n",
      "[[ 3.+0.j   1.+0.j   4.+0.1j]\n",
      " [ 1.+0.j   5.-2.j   9.+0.j ]\n",
      " [ 2.+0.j   6.+2.j   5.+0.j ]]\n",
      "One dimestional array of A=\n",
      "[ 3.+0.j   1.+0.j   4.+0.1j  1.+0.j   5.-2.j   9.+0.j   2.+0.j   6.+2.j\n",
      "  5.+0.j ]\n"
     ]
    }
   ],
   "source": [
    "A_tr=A.T\n",
    "A_H=A.H\n",
    "A_I=A.I\n",
    "A_A=A.A\n",
    "A_A1=A.A1\n",
    "\n",
    "print('Transpose of A=')\n",
    "print(A_tr)\n",
    "print('Hermitian of A=')\n",
    "print(A_H)\n",
    "print('Inverse of A=')\n",
    "print(A_I)\n",
    "print('Standard ndarray=')\n",
    "print(A_A)\n",
    "print('One dimestional array of A=')\n",
    "print(A_A1)"
   ]
  },
  {
   "cell_type": "code",
   "execution_count": 66,
   "metadata": {
    "collapsed": false
   },
   "outputs": [
    {
     "name": "stdout",
     "output_type": "stream",
     "text": [
      "[[  1.00e+00 +0.00e+00j  -1.78e-17 +6.94e-18j  -5.38e-17 -1.73e-17j]\n",
      " [  0.00e+00 +8.33e-17j   1.00e+00 +1.39e-17j  -8.33e-17 +1.67e-16j]\n",
      " [ -2.78e-17 +8.33e-17j   4.16e-17 -1.39e-17j   1.00e+00 -5.55e-17j]]\n"
     ]
    }
   ],
   "source": [
    "#Verify the inverse\n",
    "np.set_printoptions(precision = 2)\n",
    "Atest=A*A.I\n",
    "print(Atest)"
   ]
  },
  {
   "cell_type": "code",
   "execution_count": 67,
   "metadata": {
    "collapsed": false
   },
   "outputs": [
    {
     "name": "stdout",
     "output_type": "stream",
     "text": [
      "Vector b =  [[1]\n",
      " [2]\n",
      " [3]]\n",
      "A*b= [[ 17.+0.3j]\n",
      " [ 38.-4.j ]\n",
      " [ 29.+4.j ]]\n",
      "Compute b^T * A\n",
      "Row vector =  [[ 11.+0.j   29.+2.j   37.+0.1j]]\n",
      "1D array of the row vector =  [ 11.+0.j   29.+2.j   37.+0.1j]\n"
     ]
    }
   ],
   "source": [
    "#define a column vector\n",
    "\n",
    "b = np.mat('1; 2; 3')\n",
    "# matrix multiply by vector\n",
    "print('Vector b = ',b)\n",
    "#multiply square matrix by vector\n",
    "result=A*b\n",
    "print(\"A*b=\",result)\n",
    "# returns a row vector\n",
    "print('Compute b^T * A')\n",
    "row_vector=b.T*A\n",
    "print('Row vector = ', row_vector)\n",
    "\n",
    "#turn back to 1-D array\n",
    "\n",
    "one_d=(b.T*A).A1\n",
    "print('1D array of the row vector = ',one_d)"
   ]
  },
  {
   "cell_type": "markdown",
   "metadata": {},
   "source": [
    "## Solve A*x = b for x\n",
    "\n",
    "$A^{-1}A x = A{^-1} b \\Rightarrow I x = A^{-1} b \\Rightarrow  x = A^{-1} b$"
   ]
  },
  {
   "cell_type": "code",
   "execution_count": 68,
   "metadata": {
    "collapsed": false
   },
   "outputs": [
    {
     "name": "stdout",
     "output_type": "stream",
     "text": [
      "A =  [[ 3.+0.j   1.+0.j   4.+0.1j]\n",
      " [ 1.+0.j   5.-2.j   9.+0.j ]\n",
      " [ 2.+0.j   6.+2.j   5.+0.j ]]\n",
      "b =  [[1]\n",
      " [2]\n",
      " [3]]\n",
      "Solve as X=A^(-1)*b\n",
      "[[ 0.131431-0.21676j ]\n",
      " [ 0.321447-0.213194j]\n",
      " [ 0.076414+0.213958j]]\n",
      "Residual =  [[ -1.110223e-16 +0.000000e+00j]\n",
      " [ -4.440892e-16 +0.000000e+00j]\n",
      " [  0.000000e+00 -2.220446e-16j]]\n",
      "linalg solution =  [[ 0.131431-0.21676j ]\n",
      " [ 0.321447-0.213194j]\n",
      " [ 0.076414+0.213958j]]\n"
     ]
    }
   ],
   "source": [
    "np.set_printoptions(precision = 6)\n",
    "print(\"A = \",A)\n",
    "print(\"b = \",b)\n",
    "print('Solve as X=A^(-1)*b')\n",
    "x=A.I*b\n",
    "#solution x\n",
    "print(x)\n",
    "#verify\n",
    "res=A*x-b\n",
    "print('Residual = ',res)\n",
    "#alternative\n",
    "solution=np.linalg.solve(A, b)\n",
    "print('linalg solution = ',solution)\n"
   ]
  },
  {
   "cell_type": "markdown",
   "metadata": {},
   "source": [
    "## Least Squares with Numpy\n",
    "\n",
    "Assuming that data $y_i$ depend on data $x_i$ in the following form:\n",
    "\n",
    "$y_i=\\sum_jc_jf_j(x_i)+\\epsilon_{i}$\n",
    "where $\\epsilon_{i}$ represents uncertainty in the data. Using the least squares method, one seaks to pick coefficients $c_j$ that minimize:  $J(\\vec{c})=\\sum_i ∣y_i−\\sum_j c_j f_j(x_i)|^{2}$. \n",
    "If $A_{ij}=f_j(x_i)$ then linalg.lstsq will solve for $\\vec{c}=(A^{H}A)^{-1}A^{H}\\vec{y}$. The fit can then be obtained as: $\\vec{y} = A \\vec{c} + \\vec{\\epsilon} $. In the example below we generate 10 values by randomizing the analytical form: $y_{i}= c_{1}*e^{-x_i}+c_{2}e^{x_i}$, for $x_i=0.1i$ for $i=1…10$ , $c_1=5$, and $c_2=4$\n",
    "\n",
    "code from https://docs.scipy.org/doc/scipy/reference/tutorial/linalg.html\n",
    "\n",
    " "
   ]
  },
  {
   "cell_type": "code",
   "execution_count": 69,
   "metadata": {
    "collapsed": false,
    "scrolled": true
   },
   "outputs": [
    {
     "data": {
      "image/png": "[encoded data removed]",
      "text/plain": [
       "<matplotlib.figure.Figure at 0x178844bc748>"
      ]
     },
     "metadata": {},
     "output_type": "display_data"
    }
   ],
   "source": [
    "import numpy as np\n",
    "import matplotlib.pyplot as plt\n",
    "c1, c2 = 5.0, 2.0\n",
    "i = np.r_[1:11]\n",
    "xi = 0.1*i\n",
    "yi = c1*np.exp(-xi) + c2*xi\n",
    "zi = yi + 0.05 * np.max(yi) * np.random.randn(len(yi))\n",
    "A = np.c_[np.exp(-xi)[:, np.newaxis], xi[:, np.newaxis]]\n",
    "c, resid, rank, sigma = np.linalg.lstsq(A, zi) # solve using linalg.lsteq\n",
    "xi2 = np.r_[0.1:1.0:100j]\n",
    "yi2 = c[0]*np.exp(-xi2) + c[1]*xi2\n",
    "plt.plot(xi,zi,'x',xi2,yi2)\n",
    "plt.axis([0,1.1,3.0,5.5])\n",
    "plt.xlabel('$x_i$')\n",
    "plt.title('Data fits')\n",
    "plt.show()\n"
   ]
  },
  {
   "cell_type": "markdown",
   "metadata": {},
   "source": [
    "## First order Ordinary Differential Equations\n",
    "\n",
    "Using numpy and the intergrate package from scipy one can easily solve ordinary differential equations with a variety of boundary or initial conditions. \n",
    "\n",
    "For example we solve here the equation: $\\frac{dy}{dx}+y=x$ under the condition y(0)=1. The particular differential equation has an analytical solution $y=x-1+2e^{-x}$ which we overplot."
   ]
  },
  {
   "cell_type": "code",
   "execution_count": 70,
   "metadata": {
    "collapsed": false,
    "scrolled": false
   },
   "outputs": [
    {
     "data": {
      "image/png": "[encoded data removed]",
      "text/plain": [
       "<matplotlib.figure.Figure at 0x17884b091d0>"
      ]
     },
     "metadata": {},
     "output_type": "display_data"
    }
   ],
   "source": [
    "import numpy as np\n",
    "from scipy.integrate import odeint\n",
    "import matplotlib.pyplot as plt\n",
    "\n",
    "# Define a function which calculates the derivative\n",
    "def dy_dx(y, x):\n",
    "    return x - y\n",
    "\n",
    "xs = np.linspace(0,5,100)\n",
    "y0 = 1.0\n",
    "ys = odeint(dy_dx, y0, xs)\n",
    "ys = np.array(ys).flatten()\n",
    "y_exact = xs - 1 + 2*np.exp(-xs)\n",
    "y_difference = ys - y_exact\n",
    "plt.plot(xs, ys, xs, y_exact, \"+\");\n",
    "plt.show()"
   ]
  },
  {
   "cell_type": "markdown",
   "metadata": {},
   "source": [
    "## Second order Ordinary Differential Equations\n",
    "\n",
    "Solve for y in $y″+2y′+2y=5cos(2x)$ if $y(0)=0$ and $y'(0)=0$\n",
    "Setting z=y′ we can convert the second order into a system of two first order differential equations as: \n",
    "y′=z\n",
    "z′=y″=-2z-2y+5cos(2x)\n",
    "where y(0)=0 and z(0)=0\n"
   ]
  },
  {
   "cell_type": "code",
   "execution_count": 71,
   "metadata": {
    "collapsed": false,
    "scrolled": true
   },
   "outputs": [
    {
     "data": {
      "image/png": "[encoded data removed]",
      "text/plain": [
       "<matplotlib.figure.Figure at 0x178844bcfd0>"
      ]
     },
     "metadata": {},
     "output_type": "display_data"
    }
   ],
   "source": [
    "import numpy as np\n",
    "from scipy.integrate import odeint\n",
    "import matplotlib.pyplot as plt\n",
    "\n",
    "def dU_dx(U, x):\n",
    "    # Here U is a vector such that y=U[0] and z=U[1]. This function should return [y', z']\n",
    "    return [U[1], -2*U[1] - 2.*U[0] + 5.*np.cos(2*x)]\n",
    "U0 = [0, 0]\n",
    "xs = np.linspace(0, 10, 200)\n",
    "Us = odeint(dU_dx, U0, xs) # Same as before but instead of N scalars, the input is 2xN\n",
    "ys = Us[:,0]\n",
    "plt.plot(xs,ys)\n",
    "plt.xlabel(\"x\")\n",
    "plt.ylabel(\"y\")\n",
    "plt.title(\"Damped harmonic oscillator\");\n",
    "plt.show()\n"
   ]
  },
  {
   "cell_type": "markdown",
   "metadata": {},
   "source": [
    "## Extracting Diagonals \n"
   ]
  },
  {
   "cell_type": "code",
   "execution_count": 72,
   "metadata": {
    "collapsed": false,
    "scrolled": true
   },
   "outputs": [
    {
     "name": "stdout",
     "output_type": "stream",
     "text": [
      "[[0 1 2]\n",
      " [3 4 5]\n",
      " [6 7 8]]\n",
      "[0 4 8]\n",
      "[1 5]\n",
      "[3 7]\n"
     ]
    }
   ],
   "source": [
    "import numpy as np\n",
    "x = np.arange(9).reshape((3,3))\n",
    "print(x)\n",
    "main_diagonal=np.diag(x)\n",
    "print(main_diagonal)\n",
    "single_positive_offset_diagonal=np.diag(x, k=1)\n",
    "print(single_positive_offset_diagonal)\n",
    "single_negative_offset_diagonal=np.diag(x, k=-1)\n",
    "print(single_negative_offset_diagonal)\n"
   ]
  },
  {
   "cell_type": "markdown",
   "metadata": {},
   "source": [
    "## Eigenvalues and Eigenvectors\n",
    "\n",
    "\n",
    "An eigenvalue w of a matrix A has the property that there exists a vector (eigenvector) v for which: $\\textbf{A}*\\vec{v} = w*\\vec{v} \\Rightarrow (\\textbf{A}-w*\\textbf{I})\\vec{v}=0$\n",
    "\n",
    "\n",
    "Code from https://docs.scipy.org/doc/numpy/reference/generated/numpy.linalg.eig.html"
   ]
  },
  {
   "cell_type": "code",
   "execution_count": 73,
   "metadata": {
    "collapsed": false,
    "scrolled": false
   },
   "outputs": [
    {
     "name": "stdout",
     "output_type": "stream",
     "text": [
      "[[0 1]\n",
      " [1 0]]\n",
      "[ 1. -1.]\n",
      "[[ 0.707107 -0.707107]\n",
      " [ 0.707107  0.707107]]\n",
      "[ 0.  0.]\n",
      "[ 0.  0.]\n"
     ]
    }
   ],
   "source": [
    "import numpy as np\n",
    "from numpy import linalg as LA\n",
    "\n",
    "\n",
    "A=np.array([[0, 1], [1, 0]])\n",
    "print(A)\n",
    "w, v = LA.eig(A)\n",
    "print(w)\n",
    "print(v)\n",
    "\n",
    "for i in range(0, 2):\n",
    "        print(np.dot(A[:,:], v[:,i])- w[i] * v[:,i])"
   ]
  },
  {
   "cell_type": "markdown",
   "metadata": {},
   "source": [
    "## Solving the Laplace Equation with numpy \n",
    "\n",
    "Using numpy we can solve the standard (2D) heat transfer equation $\\nabla^{2} T = \\frac{\\partial^{2}{T}}{\\partial{x}^{2}}+\\frac{\\partial^{2}{T}}{\\partial{y}^{2}}= 0$ on a square grid with Dirichlet boundary conditions."
   ]
  },
  {
   "cell_type": "code",
   "execution_count": 74,
   "metadata": {
    "collapsed": false
   },
   "outputs": [],
   "source": [
    "import numpy as np\n",
    "import matplotlib.pyplot as plt\n",
    "\n",
    "# Set maximum iteration\n",
    "maxIter = 800\n",
    "\n",
    "# Set Dimension and delta\n",
    "lenX = lenY = 10 #we set it rectangular\n",
    "delta = 1\n",
    "\n",
    "# Boundary condition\n",
    "Ttop = 100\n",
    "Tbottom = 50\n",
    "Tleft = 100\n",
    "Tright = 100\n",
    "\n",
    "# Initial guess of interior grid\n",
    "Tguess = 20\n",
    "\n",
    "# Set colour interpolation and colour map\n",
    "colorinterpolation = 50\n",
    "colourMap = plt.cm.coolwarm \n",
    "\n",
    "# Set meshgrid\n",
    "X, Y = np.meshgrid(np.arange(0, lenX), np.arange(0, lenY))\n",
    "\n",
    "# Set array size and set the interior value with Tguess\n",
    "T = np.empty((lenX, lenY))\n",
    "T.fill(Tguess)\n",
    "\n",
    "# Set Boundary condition\n",
    "T[(lenY-1):, :] = Ttop\n",
    "T[:1, :] = Tbottom\n",
    "T[:, (lenX-1):] = Tright\n",
    "T[:, :1] = Tleft\n"
   ]
  },
  {
   "cell_type": "markdown",
   "metadata": {},
   "source": [
    "Discetize: \n",
    "$T_{i,j} = \\frac{1}{4}(T_{i+1,j}+T_{i-1,j}+T_{i,j+1}+T_{i,j-1})$"
   ]
  },
  {
   "cell_type": "code",
   "execution_count": 75,
   "metadata": {
    "collapsed": false
   },
   "outputs": [
    {
     "data": {
      "image/png": "[encoded data removed]",
      "text/plain": [
       "<matplotlib.figure.Figure at 0x1788509dc18>"
      ]
     },
     "metadata": {},
     "output_type": "display_data"
    }
   ],
   "source": [
    "# Iterate \n",
    "for iteration in range(0, maxIter):\n",
    "    for i in range(1, lenX-1, delta):\n",
    "        for j in range(1, lenY-1, delta):\n",
    "            T[i, j] = 0.25 * (T[i+1][j] + T[i-1][j] + T[i][j+1] + T[i][j-1])\n",
    "\n",
    "# Configure the contour\n",
    "plt.title(\"Temperature\")\n",
    "plt.contourf(X, Y, T, colorinterpolation, cmap=colourMap)\n",
    "\n",
    "# Set Colorbar\n",
    "plt.colorbar()\n",
    "\n",
    "# Show the result in the plot window\n",
    "plt.show()\n"
   ]
  },
  {
   "cell_type": "code",
   "execution_count": null,
   "metadata": {
    "collapsed": true
   },
   "outputs": [],
   "source": []
  }
 ],
 "metadata": {
  "kernelspec": {
   "display_name": "Python 3",
   "language": "python",
   "name": "python3"
  },
  "language_info": {
   "codemirror_mode": {
    "name": "ipython",
    "version": 3
   },
   "file_extension": ".py",
   "mimetype": "text/x-python",
   "name": "python",
   "nbconvert_exporter": "python",
   "pygments_lexer": "ipython3",
   "version": "3.6.0"
  }
 },
 "nbformat": 4,
 "nbformat_minor": 2
}
